{
 "cells": [
  {
   "cell_type": "markdown",
   "metadata": {},
   "source": [
    "# Word2Vec-Movie Review"
   ]
  },
  {
   "cell_type": "markdown",
   "metadata": {},
   "source": [
    "In this project, we will use Word2Vec to create word embeddings for reviews in our dataset. We will be using various functions of Word2Vec to show correlation between different inputs. Word2vec takes as its input a large corpus of text and produces a vector space, typically of several hundred dimensions, with each unique word in the corpus being assigned a corresponding vector in the space. Word vectors are positioned in the vector space such that words that share common contexts in the corpus are located in close proximity to one another in the space. Algorithms like n-grams are used to recognize the context in which a word comes. The algorithm chunks out group of n words from the sentence and then it tries to predict the neighbourhood words of the word under consideration. "
   ]
  },
  {
   "cell_type": "markdown",
   "metadata": {},
   "source": [
    "More details on Word2Vec can be found here: https://en.wikipedia.org/wiki/Word2vec"
   ]
  },
  {
   "cell_type": "markdown",
   "metadata": {},
   "source": [
    "After creating word embeddings, we will visualize the correlations using t-SNE. It is a nonlinear dimensionality reduction technique that is particularly well-suited for embedding high-dimensional data into a space of two or three dimensions, which can then be visualized in a scatter plot. T-SNE library is used to squash the vectors into 2-D plots"
   ]
  },
  {
   "cell_type": "markdown",
   "metadata": {},
   "source": [
    "The first step is to preprocess our raw text data to make it useable by Word2Vec."
   ]
  },
  {
   "cell_type": "markdown",
   "metadata": {},
   "source": [
    "The dependencies we will be needing are:\n",
    "1. numpy- for handling multidimensional arrays and scientific calculations\n",
    "2. pandas- for data manipulation and handling in a structured manner\n",
    "3. BeautifulSoup- to remove all the html markups in review text\n",
    "4. re- regular expression to remove everything except alphabets\n",
    "5. nltk- natural language toolkit used in removing stopwords\n",
    "6. word2vec- to create word embeddings\n",
    "7. TSNE- dimentionality reduction or word embeddings\n",
    "8. matplotlib- to show the plots"
   ]
  },
  {
   "cell_type": "code",
   "execution_count": 2,
   "metadata": {
    "collapsed": true
   },
   "outputs": [],
   "source": [
    "import numpy as np\n",
    "import pandas as pd\n",
    "from bs4 import BeautifulSoup\n",
    "import re\n",
    "from nltk.corpus import stopwords\n",
    "from gensim.models import word2vec\n",
    "from sklearn.manifold import TSNE\n",
    "from matplotlib import pyplot as plt"
   ]
  },
  {
   "cell_type": "markdown",
   "metadata": {},
   "source": [
    "Read data from file using pandas"
   ]
  },
  {
   "cell_type": "code",
   "execution_count": 4,
   "metadata": {},
   "outputs": [
    {
     "data": {
      "text/html": [
       "<div>\n",
       "<style>\n",
       "    .dataframe thead tr:only-child th {\n",
       "        text-align: right;\n",
       "    }\n",
       "\n",
       "    .dataframe thead th {\n",
       "        text-align: left;\n",
       "    }\n",
       "\n",
       "    .dataframe tbody tr th {\n",
       "        vertical-align: top;\n",
       "    }\n",
       "</style>\n",
       "<table border=\"1\" class=\"dataframe\">\n",
       "  <thead>\n",
       "    <tr style=\"text-align: right;\">\n",
       "      <th></th>\n",
       "      <th>id</th>\n",
       "      <th>sentiment</th>\n",
       "      <th>review</th>\n",
       "    </tr>\n",
       "  </thead>\n",
       "  <tbody>\n",
       "    <tr>\n",
       "      <th>0</th>\n",
       "      <td>5814_8</td>\n",
       "      <td>1</td>\n",
       "      <td>With all this stuff going down at the moment w...</td>\n",
       "    </tr>\n",
       "    <tr>\n",
       "      <th>1</th>\n",
       "      <td>2381_9</td>\n",
       "      <td>1</td>\n",
       "      <td>\\The Classic War of the Worlds\\\" by Timothy Hi...</td>\n",
       "    </tr>\n",
       "    <tr>\n",
       "      <th>2</th>\n",
       "      <td>7759_3</td>\n",
       "      <td>0</td>\n",
       "      <td>The film starts with a manager (Nicholas Bell)...</td>\n",
       "    </tr>\n",
       "    <tr>\n",
       "      <th>3</th>\n",
       "      <td>3630_4</td>\n",
       "      <td>0</td>\n",
       "      <td>It must be assumed that those who praised this...</td>\n",
       "    </tr>\n",
       "    <tr>\n",
       "      <th>4</th>\n",
       "      <td>9495_8</td>\n",
       "      <td>1</td>\n",
       "      <td>Superbly trashy and wondrously unpretentious 8...</td>\n",
       "    </tr>\n",
       "  </tbody>\n",
       "</table>\n",
       "</div>"
      ],
      "text/plain": [
       "       id  sentiment                                             review\n",
       "0  5814_8          1  With all this stuff going down at the moment w...\n",
       "1  2381_9          1  \\The Classic War of the Worlds\\\" by Timothy Hi...\n",
       "2  7759_3          0  The film starts with a manager (Nicholas Bell)...\n",
       "3  3630_4          0  It must be assumed that those who praised this...\n",
       "4  9495_8          1  Superbly trashy and wondrously unpretentious 8..."
      ]
     },
     "execution_count": 4,
     "metadata": {},
     "output_type": "execute_result"
    }
   ],
   "source": [
    "data = pd.read_csv('/Users/kr_subham/Desktop/Word2Vec/labeledTrainData.tsv', delimiter='\\t')\n",
    "data.head()"
   ]
  },
  {
   "cell_type": "markdown",
   "metadata": {},
   "source": [
    "The column 'id' in the data is not useful to us. Hence, removing it"
   ]
  },
  {
   "cell_type": "code",
   "execution_count": 5,
   "metadata": {},
   "outputs": [
    {
     "data": {
      "text/html": [
       "<div>\n",
       "<style>\n",
       "    .dataframe thead tr:only-child th {\n",
       "        text-align: right;\n",
       "    }\n",
       "\n",
       "    .dataframe thead th {\n",
       "        text-align: left;\n",
       "    }\n",
       "\n",
       "    .dataframe tbody tr th {\n",
       "        vertical-align: top;\n",
       "    }\n",
       "</style>\n",
       "<table border=\"1\" class=\"dataframe\">\n",
       "  <thead>\n",
       "    <tr style=\"text-align: right;\">\n",
       "      <th></th>\n",
       "      <th>sentiment</th>\n",
       "      <th>review</th>\n",
       "    </tr>\n",
       "  </thead>\n",
       "  <tbody>\n",
       "    <tr>\n",
       "      <th>0</th>\n",
       "      <td>1</td>\n",
       "      <td>With all this stuff going down at the moment w...</td>\n",
       "    </tr>\n",
       "    <tr>\n",
       "      <th>1</th>\n",
       "      <td>1</td>\n",
       "      <td>\\The Classic War of the Worlds\\\" by Timothy Hi...</td>\n",
       "    </tr>\n",
       "    <tr>\n",
       "      <th>2</th>\n",
       "      <td>0</td>\n",
       "      <td>The film starts with a manager (Nicholas Bell)...</td>\n",
       "    </tr>\n",
       "    <tr>\n",
       "      <th>3</th>\n",
       "      <td>0</td>\n",
       "      <td>It must be assumed that those who praised this...</td>\n",
       "    </tr>\n",
       "    <tr>\n",
       "      <th>4</th>\n",
       "      <td>1</td>\n",
       "      <td>Superbly trashy and wondrously unpretentious 8...</td>\n",
       "    </tr>\n",
       "  </tbody>\n",
       "</table>\n",
       "</div>"
      ],
      "text/plain": [
       "   sentiment                                             review\n",
       "0          1  With all this stuff going down at the moment w...\n",
       "1          1  \\The Classic War of the Worlds\\\" by Timothy Hi...\n",
       "2          0  The film starts with a manager (Nicholas Bell)...\n",
       "3          0  It must be assumed that those who praised this...\n",
       "4          1  Superbly trashy and wondrously unpretentious 8..."
      ]
     },
     "execution_count": 5,
     "metadata": {},
     "output_type": "execute_result"
    }
   ],
   "source": [
    "data.drop('id', axis=1, inplace=True)\n",
    "data.head()"
   ]
  },
  {
   "cell_type": "markdown",
   "metadata": {},
   "source": [
    "The next step is to clean the reviews. This is done as follows:\n",
    "1. The html markups are removed first from the text\n",
    "2. Then all the punctuation marks and numbers are replaced by a blank space so that only text data remains\n",
    "3. The text data is converted to lowercase\n",
    "4. The lowercase sentences are tokenized into individual words\n",
    "5. The stopwords are removed from the tokenized sentences so that only meaningful words remain\n",
    "\n",
    "The list review_clean contains the cleaned-up reviews in tokenize form."
   ]
  },
  {
   "cell_type": "code",
   "execution_count": 6,
   "metadata": {
    "collapsed": true
   },
   "outputs": [],
   "source": [
    "review_clean = []\n",
    "stops = set(stopwords.words('english'))\n",
    "def clean_review(raw_input):\n",
    "    no_markups = BeautifulSoup(raw_input, 'html5lib')\n",
    "    text = no_markups.get_text()\n",
    "    only_text = re.sub('[^a-zA-Z]', ' ', text)\n",
    "    lower_text = only_text.lower()\n",
    "    tokens = lower_text.split()\n",
    "    words = [w for w in tokens if not w in stops]\n",
    "    return words\n",
    "\n",
    "for i in data['review']:\n",
    "    review_clean.append(clean_review(i))"
   ]
  },
  {
   "cell_type": "markdown",
   "metadata": {},
   "source": [
    "A part of review after cleaning is shown below"
   ]
  },
  {
   "cell_type": "code",
   "execution_count": 7,
   "metadata": {},
   "outputs": [
    {
     "data": {
      "text/plain": [
       "['people', 'especially', 'young', 'people', 'may']"
      ]
     },
     "execution_count": 7,
     "metadata": {},
     "output_type": "execute_result"
    }
   ],
   "source": [
    "review_clean[19][:5]"
   ]
  },
  {
   "cell_type": "markdown",
   "metadata": {},
   "source": [
    "Now since the review_clean list contains clean data, we can train our Word2Vec model. We will be keeping minimum word count to be 1. Also, the size of word embeddings is set to 400 and workers is set to 4 to use 4 CPU cores simultaneously. This will increase the speed of training and will create the word embeddings faster."
   ]
  },
  {
   "cell_type": "code",
   "execution_count": 19,
   "metadata": {},
   "outputs": [
    {
     "data": {
      "text/plain": [
       "<gensim.models.word2vec.Word2Vec at 0x12a3a1208>"
      ]
     },
     "execution_count": 19,
     "metadata": {},
     "output_type": "execute_result"
    }
   ],
   "source": [
    "model = word2vec.Word2Vec(review_clean, min_count=1, size=400, workers=4)\n",
    "model"
   ]
  },
  {
   "cell_type": "markdown",
   "metadata": {},
   "source": [
    "The above message shows that the model is successfuly created. We can now use several function to see how it is working."
   ]
  },
  {
   "cell_type": "code",
   "execution_count": 46,
   "metadata": {},
   "outputs": [
    {
     "name": "stdout",
     "output_type": "stream",
     "text": [
      "[ 0.43039581 -0.5268746   0.33743325  0.09726456 -0.40471464 -0.02770166\n",
      " -0.24940562 -0.09030296 -0.05066823  0.71220857  0.5879218  -0.40466875\n",
      "  0.56911522  0.01513779 -0.68414742 -0.07438909 -0.15969133  0.42162883\n",
      " -0.28290892 -0.21183842 -0.78645235 -0.4217014   0.16568239 -0.77605593\n",
      " -0.21308294 -0.22118215  0.01070904 -0.65946114 -0.66816795  0.24633329\n",
      "  0.44516987 -0.05861262 -0.24660432 -0.47416157 -0.36608914  0.15652552\n",
      " -0.34958261 -0.26594257 -0.79872036 -0.49102822  0.76905131  0.13032548\n",
      "  0.33894154  0.63793153  0.28246641 -0.81712025  0.14592674  0.8808459\n",
      " -0.33327132  0.21700852]\n",
      "Shape:  (400,)\n"
     ]
    }
   ],
   "source": [
    "print(model.wv['happy'][:50])\n",
    "print('Shape: ', model.wv['happy'].shape)"
   ]
  },
  {
   "cell_type": "markdown",
   "metadata": {},
   "source": [
    "The model created word embeddings of size 400 for each word of every sentence in review_clean. The first 50 embeddings of the word 'happy' created by model is shown above. Similar to this, every word has a unique embedding of dimension (400,) with similar words closer and opposite words far apart"
   ]
  },
  {
   "cell_type": "code",
   "execution_count": 22,
   "metadata": {},
   "outputs": [
    {
     "data": {
      "text/plain": [
       "[('afraid', 0.7350729703903198),\n",
       " ('tears', 0.733421802520752),\n",
       " ('sad', 0.72188401222229),\n",
       " ('cry', 0.718899130821228),\n",
       " ('wanting', 0.6852778792381287),\n",
       " ('ruin', 0.6843205094337463),\n",
       " ('lose', 0.6676592826843262),\n",
       " ('touched', 0.6555779576301575),\n",
       " ('radiohead', 0.6530681848526001),\n",
       " ('spoil', 0.6517599821090698)]"
      ]
     },
     "execution_count": 22,
     "metadata": {},
     "output_type": "execute_result"
    }
   ],
   "source": [
    " model.wv.most_similar('happy')"
   ]
  },
  {
   "cell_type": "code",
   "execution_count": 23,
   "metadata": {},
   "outputs": [
    {
     "data": {
      "text/plain": [
       "[('intriguing', 0.8139171600341797),\n",
       " ('unusual', 0.7225215435028076),\n",
       " ('exciting', 0.7086046934127808),\n",
       " ('surprising', 0.707027792930603),\n",
       " ('added', 0.7057640552520752),\n",
       " ('odd', 0.7048221826553345),\n",
       " ('worthwhile', 0.6977936029434204),\n",
       " ('compelling', 0.6888687610626221),\n",
       " ('fascinating', 0.6846849918365479),\n",
       " ('fit', 0.6802269816398621)]"
      ]
     },
     "execution_count": 23,
     "metadata": {},
     "output_type": "execute_result"
    }
   ],
   "source": [
    " model.wv.most_similar('interesting')"
   ]
  },
  {
   "cell_type": "code",
   "execution_count": 26,
   "metadata": {},
   "outputs": [
    {
     "data": {
      "text/plain": [
       "'cereal'"
      ]
     },
     "execution_count": 26,
     "metadata": {},
     "output_type": "execute_result"
    }
   ],
   "source": [
    "model.wv.doesnt_match(\"breakfast cereal dinner lunch\".split())"
   ]
  },
  {
   "cell_type": "markdown",
   "metadata": {},
   "source": [
    "The model is working fairly fine even when it is trained on a small dataset."
   ]
  },
  {
   "cell_type": "markdown",
   "metadata": {},
   "source": [
    "Now we will make a function to plot the words similar to a given word using t-SNE. The vizualizations will help us observe the correlations more effectively. The working of each line in the function is commented in the code"
   ]
  },
  {
   "cell_type": "code",
   "execution_count": 41,
   "metadata": {
    "collapsed": true
   },
   "outputs": [],
   "source": [
    "def similar_words(model, word):\n",
    "    \n",
    "    arr = np.empty((0,400), dtype='f') #creates an empty array of size equalto the size of embeddings\n",
    "    word_labels = [word] #initializes the word_labels list with the given word\n",
    "    close_words = model.wv.similar_by_word(word) #a list of all the words similar to the given word\n",
    "    \n",
    "    arr = np.append(arr, np.array([model.wv[word]]), axis=0)\n",
    "    for wrd_score in close_words: #for every word in close_words list\n",
    "        wrd_vector = model.wv[wrd_score[0]] #this list stores the word embeddings of all the close_words\n",
    "        word_labels.append(wrd_score[0]) #this list stores the labels of corresponding words stored\n",
    "        arr = np.append(arr, np.array([wrd_vector]), axis=0) #each entry is appended into arr\n",
    "        \n",
    "    tsne = TSNE(n_components=2, random_state=0) #a 2 components t-SNE classifier is created\n",
    "    Y = tsne.fit_transform(arr) #dimentionality is reduced for plotting\n",
    "    x_coords = Y[:, 0] #x and y coordinates are separated\n",
    "    y_coords = Y[:, 1] #in their respective lists\n",
    "    plt.scatter(x_coords, y_coords) #a scatter plot is formed\n",
    "\n",
    "    for label, x, y in zip(word_labels, x_coords, y_coords):\n",
    "        plt.annotate(label, xy=(x, y), xytext=(0, 0), textcoords='offset points') #labels are also displayed alongwith the plot\n",
    "    plt.xlim(x_coords.min()+0.00005, x_coords.max()+0.00005)\n",
    "    plt.ylim(y_coords.min()+0.00005, y_coords.max()+0.00005)\n",
    "    plt.show()"
   ]
  },
  {
   "cell_type": "code",
   "execution_count": 43,
   "metadata": {},
   "outputs": [
    {
     "data": {
      "image/png": "[encoded data removed]",
      "text/plain": [
       "<matplotlib.figure.Figure at 0x15db9dda0>"
      ]
     },
     "metadata": {},
     "output_type": "display_data"
    }
   ],
   "source": [
    "similar_words(model, 'happy')"
   ]
  },
  {
   "cell_type": "code",
   "execution_count": 44,
   "metadata": {},
   "outputs": [
    {
     "data": {
      "image/png": "[encoded data removed]",
      "text/plain": [
       "<matplotlib.figure.Figure at 0x15db10be0>"
      ]
     },
     "metadata": {},
     "output_type": "display_data"
    }
   ],
   "source": [
    "similar_words(model, 'interesting')"
   ]
  },
  {
   "cell_type": "code",
   "execution_count": 45,
   "metadata": {},
   "outputs": [
    {
     "data": {
      "image/png": "[encoded data removed]",
      "text/plain": [
       "<matplotlib.figure.Figure at 0x15deae7b8>"
      ]
     },
     "metadata": {},
     "output_type": "display_data"
    }
   ],
   "source": [
    "similar_words(model, 'acting')"
   ]
  },
  {
   "cell_type": "markdown",
   "metadata": {},
   "source": [
    "Observing the above 3 plots, the model seems to work well. Word2Vec is used to create word embeddings and t-SNE alongwith matplotlib is used to plot and show the visualization"
   ]
  },
  {
   "cell_type": "markdown",
   "metadata": {},
   "source": [
    "The word embeddings created using Word2Vec can be widely used in many applications such as Question-Answering machine, Text classification etc"
   ]
  }
 ],
 "metadata": {
  "kernelspec": {
   "display_name": "Python 3",
   "language": "python",
   "name": "python3"
  },
  "language_info": {
   "codemirror_mode": {
    "name": "ipython",
    "version": 3
   },
   "file_extension": ".py",
   "mimetype": "text/x-python",
   "name": "python",
   "nbconvert_exporter": "python",
   "pygments_lexer": "ipython3",
   "version": "3.6.1"
  }
 },
 "nbformat": 4,
 "nbformat_minor": 2
}
